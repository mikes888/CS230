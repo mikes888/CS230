{
  "nbformat": 4,
  "nbformat_minor": 0,
  "metadata": {
    "colab": {
      "provenance": []
    },
    "kernelspec": {
      "name": "python3",
      "display_name": "Python 3"
    },
    "language_info": {
      "name": "python"
    }
  },
  "cells": [
    {
      "cell_type": "code",
      "execution_count": 11,
      "metadata": {
        "id": "wN-c2PDgtLWG"
      },
      "outputs": [],
      "source": [
        "import os\n",
        "import numpy as np\n",
        "import pandas as pd\n",
        "from sklearn.model_selection import train_test_split\n",
        "from sklearn.preprocessing import StandardScaler, LabelEncoder\n",
        "from sklearn.impute import SimpleImputer\n",
        "from sklearn.feature_selection import VarianceThreshold"
      ]
    },
    {
      "cell_type": "code",
      "source": [
        "from google.colab import drive\n",
        "drive.mount('/content/drive')"
      ],
      "metadata": {
        "colab": {
          "base_uri": "https://localhost:8080/"
        },
        "id": "7qQ1_L0BtQTc",
        "outputId": "d863c513-392d-4fa5-d3fb-f1e37204d6ec"
      },
      "execution_count": 2,
      "outputs": [
        {
          "output_type": "stream",
          "name": "stdout",
          "text": [
            "Mounted at /content/drive\n"
          ]
        }
      ]
    },
    {
      "cell_type": "markdown",
      "source": [
        "Data Processing:"
      ],
      "metadata": {
        "id": "HSQRXad4t7IL"
      }
    },
    {
      "cell_type": "code",
      "source": [
        "# Extract transaction data\n",
        "num_chunks = 10000\n",
        "chunks = []\n",
        "for chunk in pd.read_csv(\"/content/drive/My Drive/CS230_Folder/train_transaction.csv\",\n",
        "                         chunksize=num_chunks, engine='python'):\n",
        "    chunks.append(chunk)\n",
        "train_trans_df = pd.concat(chunks)"
      ],
      "metadata": {
        "id": "jyaoZZzjtSWM"
      },
      "execution_count": 4,
      "outputs": []
    },
    {
      "cell_type": "code",
      "source": [
        "# Extract identity data\n",
        "num_chunks = 10000\n",
        "chunks = []\n",
        "for chunk in pd.read_csv(\"/content/drive/My Drive/CS230_Folder/train_identity.csv\",\n",
        "                         chunksize=num_chunks, engine='python'):\n",
        "    chunks.append(chunk)\n",
        "train_identity_df = pd.concat(chunks)"
      ],
      "metadata": {
        "id": "bq0nD-FRtywv"
      },
      "execution_count": 5,
      "outputs": []
    },
    {
      "cell_type": "code",
      "source": [
        "# Merge transaction and identity datasets\n",
        "whole_df = train_trans_df.merge(train_identity_df, on='TransactionID')"
      ],
      "metadata": {
        "id": "r53pkkQDt2Jr"
      },
      "execution_count": 6,
      "outputs": []
    },
    {
      "cell_type": "code",
      "source": [
        "# Drop features with too many null values\n",
        "minimum = 0.5\n",
        "null_percentage = whole_df.isnull().mean()\n",
        "whole_df = whole_df.drop(columns=null_percentage[null_percentage > minimum].index)"
      ],
      "metadata": {
        "id": "K-g6RV0Zt-8c"
      },
      "execution_count": 7,
      "outputs": []
    },
    {
      "cell_type": "code",
      "source": [
        "# Define and encode categorical features\n",
        "trans_category_features = ['isFraud', 'ProductCD', 'card1', 'card2', 'card3', 'card4', 'card5', 'card6',\n",
        "    'addr1', 'addr2', 'P_emaildomain', 'R_emaildomain',\n",
        "    'M1', 'M2', 'M3', 'M4', 'M5', 'M6', 'M7', 'M8', 'M9']\n",
        "\n",
        "identity_category_features = [f'id_{i}' for i in range(12,39)] + ['DeviceType', 'DeviceInfo']\n",
        "\n",
        "categories = trans_category_features + identity_category_features\n",
        "\n",
        "for feature in categories:\n",
        "  if feature in whole_df.columns:\n",
        "    le = LabelEncoder()\n",
        "    whole_df[feature] = le.fit_transform(whole_df[feature].astype(str))\n",
        "\n",
        "# Fill null values with -999\n",
        "whole_df.fillna(-999)"
      ],
      "metadata": {
        "id": "TtzDu04JuEC9"
      },
      "execution_count": 8,
      "outputs": []
    },
    {
      "cell_type": "code",
      "source": [
        "# Extract numerical features\n",
        "numerical_features = [feature for feature in whole_df.columns if feature not in categories]"
      ],
      "metadata": {
        "id": "UiA4Nf_yuLMQ"
      },
      "execution_count": 9,
      "outputs": []
    },
    {
      "cell_type": "code",
      "source": [
        "# Feature Scaling\n",
        "scaler = StandardScaler()\n",
        "whole_df[numerical_features] = scaler.fit_transform(whole_df[numerical_features])"
      ],
      "metadata": {
        "id": "GhejRxAruWjI"
      },
      "execution_count": 10,
      "outputs": []
    },
    {
      "cell_type": "code",
      "source": [
        "# Remove low variance features\n",
        "selector = VarianceThreshold(threshold=0.05)\n",
        "matrix_whole_df = selector.fit_transform(whole_df)\n",
        "columns_kept = whole_df.columns[selector.get_support()]\n",
        "whole_df = pd.DataFrame(matrix_whole_df, columns=columns_kept)"
      ],
      "metadata": {
        "id": "CuBPqAc4uZL1"
      },
      "execution_count": 12,
      "outputs": []
    },
    {
      "cell_type": "code",
      "source": [
        "# Get X and Y\n",
        "X = whole_df.drop('isFraud', axis=1)\n",
        "y = whole_df['isFraud']"
      ],
      "metadata": {
        "id": "-K9UkRlQujUP"
      },
      "execution_count": 13,
      "outputs": []
    },
    {
      "cell_type": "code",
      "source": [
        "# Get train, validation, and test sets\n",
        "X_train, X_test, y_train, y_test = train_test_split(X, y, test_size=0.1, random_state=20)"
      ],
      "metadata": {
        "id": "QuL_8739ulr4"
      },
      "execution_count": 14,
      "outputs": []
    },
    {
      "cell_type": "code",
      "source": [
        "# Remove any rows with null values\n",
        "X_train_dropped = X_train.dropna()\n",
        "X_test_dropped = X_test.dropna()\n",
        "y_train_dropped = y_train[X_train_dropped.index]\n",
        "y_test = y_test[X_test_dropped.index]"
      ],
      "metadata": {
        "id": "eneznuTsurGp"
      },
      "execution_count": 15,
      "outputs": []
    },
    {
      "cell_type": "code",
      "source": [
        "# Resampling for unbalanced dataset\n",
        "from imblearn.over_sampling import SMOTE\n",
        "smote = SMOTE(random_state=20)\n",
        "X_train_resampled, y_train_resampled = smote.fit_resample(X_train_dropped, y_train_dropped)"
      ],
      "metadata": {
        "id": "NoIwWQTquzbd"
      },
      "execution_count": 16,
      "outputs": []
    },
    {
      "cell_type": "markdown",
      "source": [
        "Logistic Regression"
      ],
      "metadata": {
        "id": "krAEclu0u5vi"
      }
    },
    {
      "cell_type": "code",
      "source": [
        "import tensorflow as tf\n",
        "\n",
        "class log_reg_model(tf.keras.Model):\n",
        "  def __init__(self, input_size):\n",
        "    super(log_reg_model, self).__init__()\n",
        "    self.linear = tf.keras.layers.Dense(1, kernel_initializer=tf.keras.initializers.GlorotNormal())\n",
        "\n",
        "\n",
        "  def call(self, x):\n",
        "    z = self.linear(x)\n",
        "    return z"
      ],
      "metadata": {
        "id": "lh10cs-Gu3v7"
      },
      "execution_count": 25,
      "outputs": []
    },
    {
      "cell_type": "code",
      "source": [
        "# Model Training\n",
        "input_dim = X_train_resampled.shape[1]\n",
        "model_log_reg = log_reg_model(input_dim)\n",
        "\n",
        "criterion = tf.keras.losses.BinaryCrossentropy(from_logits=True)\n",
        "optimizer = tf.keras.optimizers.Adam(learning_rate=0.0001)\n",
        "\n",
        "X_train_tensor = tf.convert_to_tensor(X_train_resampled.values, dtype=tf.float32)\n",
        "y_train_tensor = tf.convert_to_tensor(y_train_resampled.values, dtype=tf.float32)\n",
        "\n",
        "num_epochs = 4000\n",
        "for epoch in range(num_epochs):\n",
        "  with tf.GradientTape() as tape:\n",
        "    outputs = model_log_reg(X_train_tensor)\n",
        "    loss = criterion(y_train_tensor, outputs)\n",
        "\n",
        "    gradients = tape.gradient(loss, model_log_reg.trainable_variables)\n",
        "    optimizer.apply_gradients(zip(gradients, model_log_reg.trainable_variables))\n",
        "\n",
        "    if epoch % 20 == 0:\n",
        "      print(f'Epoch [{epoch+1}/{num_epochs}], Loss: {loss.numpy():.4f}')"
      ],
      "metadata": {
        "colab": {
          "base_uri": "https://localhost:8080/"
        },
        "id": "z7mIhNINu8lN",
        "outputId": "4fe65e09-46b0-40ca-f1a4-92a9003574d6"
      },
      "execution_count": 26,
      "outputs": [
        {
          "output_type": "stream",
          "name": "stdout",
          "text": [
            "Epoch [1/4000], Loss: 144.3367\n",
            "Epoch [21/4000], Loss: 137.0984\n",
            "Epoch [41/4000], Loss: 129.9684\n",
            "Epoch [61/4000], Loss: 122.9409\n",
            "Epoch [81/4000], Loss: 116.0099\n",
            "Epoch [101/4000], Loss: 109.1627\n",
            "Epoch [121/4000], Loss: 102.3908\n",
            "Epoch [141/4000], Loss: 95.6938\n",
            "Epoch [161/4000], Loss: 89.0893\n",
            "Epoch [181/4000], Loss: 82.6282\n",
            "Epoch [201/4000], Loss: 76.3376\n",
            "Epoch [221/4000], Loss: 70.2594\n",
            "Epoch [241/4000], Loss: 64.4943\n",
            "Epoch [261/4000], Loss: 59.0264\n",
            "Epoch [281/4000], Loss: 53.8362\n",
            "Epoch [301/4000], Loss: 48.9285\n",
            "Epoch [321/4000], Loss: 44.3210\n",
            "Epoch [341/4000], Loss: 40.0113\n",
            "Epoch [361/4000], Loss: 36.1023\n",
            "Epoch [381/4000], Loss: 32.6959\n",
            "Epoch [401/4000], Loss: 29.7757\n",
            "Epoch [421/4000], Loss: 27.3101\n",
            "Epoch [441/4000], Loss: 25.2624\n",
            "Epoch [461/4000], Loss: 23.5739\n",
            "Epoch [481/4000], Loss: 22.2494\n",
            "Epoch [501/4000], Loss: 21.2981\n",
            "Epoch [521/4000], Loss: 20.6326\n",
            "Epoch [541/4000], Loss: 20.1059\n",
            "Epoch [561/4000], Loss: 19.6351\n",
            "Epoch [581/4000], Loss: 19.1816\n",
            "Epoch [601/4000], Loss: 18.7310\n",
            "Epoch [621/4000], Loss: 18.2785\n",
            "Epoch [641/4000], Loss: 17.8231\n",
            "Epoch [661/4000], Loss: 17.3651\n",
            "Epoch [681/4000], Loss: 16.9051\n",
            "Epoch [701/4000], Loss: 16.4439\n",
            "Epoch [721/4000], Loss: 15.9819\n",
            "Epoch [741/4000], Loss: 15.5200\n",
            "Epoch [761/4000], Loss: 15.0585\n",
            "Epoch [781/4000], Loss: 14.5983\n",
            "Epoch [801/4000], Loss: 14.1404\n",
            "Epoch [821/4000], Loss: 13.6858\n",
            "Epoch [841/4000], Loss: 13.2350\n",
            "Epoch [861/4000], Loss: 12.7883\n",
            "Epoch [881/4000], Loss: 12.3464\n",
            "Epoch [901/4000], Loss: 11.9106\n",
            "Epoch [921/4000], Loss: 11.4821\n",
            "Epoch [941/4000], Loss: 11.0615\n",
            "Epoch [961/4000], Loss: 10.6497\n",
            "Epoch [981/4000], Loss: 10.2476\n",
            "Epoch [1001/4000], Loss: 9.8563\n",
            "Epoch [1021/4000], Loss: 9.4769\n",
            "Epoch [1041/4000], Loss: 9.1101\n",
            "Epoch [1061/4000], Loss: 8.7563\n",
            "Epoch [1081/4000], Loss: 8.4164\n",
            "Epoch [1101/4000], Loss: 8.0913\n",
            "Epoch [1121/4000], Loss: 7.7822\n",
            "Epoch [1141/4000], Loss: 7.4895\n",
            "Epoch [1161/4000], Loss: 7.2135\n",
            "Epoch [1181/4000], Loss: 6.9543\n",
            "Epoch [1201/4000], Loss: 6.7122\n",
            "Epoch [1221/4000], Loss: 6.4879\n",
            "Epoch [1241/4000], Loss: 6.2815\n",
            "Epoch [1261/4000], Loss: 6.0918\n",
            "Epoch [1281/4000], Loss: 5.9173\n",
            "Epoch [1301/4000], Loss: 5.7557\n",
            "Epoch [1321/4000], Loss: 5.6051\n",
            "Epoch [1341/4000], Loss: 5.4634\n",
            "Epoch [1361/4000], Loss: 5.3290\n",
            "Epoch [1381/4000], Loss: 5.2003\n",
            "Epoch [1401/4000], Loss: 5.0763\n",
            "Epoch [1421/4000], Loss: 4.9562\n",
            "Epoch [1441/4000], Loss: 4.8392\n",
            "Epoch [1461/4000], Loss: 4.7250\n",
            "Epoch [1481/4000], Loss: 4.6130\n",
            "Epoch [1501/4000], Loss: 4.5030\n",
            "Epoch [1521/4000], Loss: 4.3946\n",
            "Epoch [1541/4000], Loss: 4.2878\n",
            "Epoch [1561/4000], Loss: 4.1824\n",
            "Epoch [1581/4000], Loss: 4.0783\n",
            "Epoch [1601/4000], Loss: 3.9755\n",
            "Epoch [1621/4000], Loss: 3.8739\n",
            "Epoch [1641/4000], Loss: 3.7736\n",
            "Epoch [1661/4000], Loss: 3.6746\n",
            "Epoch [1681/4000], Loss: 3.5770\n",
            "Epoch [1701/4000], Loss: 3.4807\n",
            "Epoch [1721/4000], Loss: 3.3857\n",
            "Epoch [1741/4000], Loss: 3.2921\n",
            "Epoch [1761/4000], Loss: 3.1998\n",
            "Epoch [1781/4000], Loss: 3.1089\n",
            "Epoch [1801/4000], Loss: 3.0194\n",
            "Epoch [1821/4000], Loss: 2.9313\n",
            "Epoch [1841/4000], Loss: 2.8447\n",
            "Epoch [1861/4000], Loss: 2.7595\n",
            "Epoch [1881/4000], Loss: 2.6759\n",
            "Epoch [1901/4000], Loss: 2.5939\n",
            "Epoch [1921/4000], Loss: 2.5136\n",
            "Epoch [1941/4000], Loss: 2.4349\n",
            "Epoch [1961/4000], Loss: 2.3580\n",
            "Epoch [1981/4000], Loss: 2.2828\n",
            "Epoch [2001/4000], Loss: 2.2095\n",
            "Epoch [2021/4000], Loss: 2.1379\n",
            "Epoch [2041/4000], Loss: 2.0682\n",
            "Epoch [2061/4000], Loss: 2.0005\n",
            "Epoch [2081/4000], Loss: 1.9346\n",
            "Epoch [2101/4000], Loss: 1.8708\n",
            "Epoch [2121/4000], Loss: 1.8090\n",
            "Epoch [2141/4000], Loss: 1.7492\n",
            "Epoch [2161/4000], Loss: 1.6914\n",
            "Epoch [2181/4000], Loss: 1.6358\n",
            "Epoch [2201/4000], Loss: 1.5822\n",
            "Epoch [2221/4000], Loss: 1.5306\n",
            "Epoch [2241/4000], Loss: 1.4812\n",
            "Epoch [2261/4000], Loss: 1.4337\n",
            "Epoch [2281/4000], Loss: 1.3883\n",
            "Epoch [2301/4000], Loss: 1.3449\n",
            "Epoch [2321/4000], Loss: 1.3034\n",
            "Epoch [2341/4000], Loss: 1.2639\n",
            "Epoch [2361/4000], Loss: 1.2263\n",
            "Epoch [2381/4000], Loss: 1.1906\n",
            "Epoch [2401/4000], Loss: 1.1566\n",
            "Epoch [2421/4000], Loss: 1.1244\n",
            "Epoch [2441/4000], Loss: 1.0939\n",
            "Epoch [2461/4000], Loss: 1.0650\n",
            "Epoch [2481/4000], Loss: 1.0377\n",
            "Epoch [2501/4000], Loss: 1.0118\n",
            "Epoch [2521/4000], Loss: 0.9873\n",
            "Epoch [2541/4000], Loss: 0.9642\n",
            "Epoch [2561/4000], Loss: 0.9424\n",
            "Epoch [2581/4000], Loss: 0.9217\n",
            "Epoch [2601/4000], Loss: 0.9022\n",
            "Epoch [2621/4000], Loss: 0.8837\n",
            "Epoch [2641/4000], Loss: 0.8662\n",
            "Epoch [2661/4000], Loss: 0.8496\n",
            "Epoch [2681/4000], Loss: 0.8338\n",
            "Epoch [2701/4000], Loss: 0.8189\n",
            "Epoch [2721/4000], Loss: 0.8047\n",
            "Epoch [2741/4000], Loss: 0.7911\n",
            "Epoch [2761/4000], Loss: 0.7782\n",
            "Epoch [2781/4000], Loss: 0.7659\n",
            "Epoch [2801/4000], Loss: 0.7542\n",
            "Epoch [2821/4000], Loss: 0.7429\n",
            "Epoch [2841/4000], Loss: 0.7321\n",
            "Epoch [2861/4000], Loss: 0.7217\n",
            "Epoch [2881/4000], Loss: 0.7118\n",
            "Epoch [2901/4000], Loss: 0.7022\n",
            "Epoch [2921/4000], Loss: 0.6930\n",
            "Epoch [2941/4000], Loss: 0.6841\n",
            "Epoch [2961/4000], Loss: 0.6755\n",
            "Epoch [2981/4000], Loss: 0.6672\n",
            "Epoch [3001/4000], Loss: 0.6592\n",
            "Epoch [3021/4000], Loss: 0.6515\n",
            "Epoch [3041/4000], Loss: 0.6439\n",
            "Epoch [3061/4000], Loss: 0.6366\n",
            "Epoch [3081/4000], Loss: 0.6296\n",
            "Epoch [3101/4000], Loss: 0.6227\n",
            "Epoch [3121/4000], Loss: 0.6160\n",
            "Epoch [3141/4000], Loss: 0.6095\n",
            "Epoch [3161/4000], Loss: 0.6032\n",
            "Epoch [3181/4000], Loss: 0.5971\n",
            "Epoch [3201/4000], Loss: 0.5911\n",
            "Epoch [3221/4000], Loss: 0.5852\n",
            "Epoch [3241/4000], Loss: 0.5796\n",
            "Epoch [3261/4000], Loss: 0.5740\n",
            "Epoch [3281/4000], Loss: 0.5686\n",
            "Epoch [3301/4000], Loss: 0.5634\n",
            "Epoch [3321/4000], Loss: 0.5582\n",
            "Epoch [3341/4000], Loss: 0.5532\n",
            "Epoch [3361/4000], Loss: 0.5483\n",
            "Epoch [3381/4000], Loss: 0.5435\n",
            "Epoch [3401/4000], Loss: 0.5389\n",
            "Epoch [3421/4000], Loss: 0.5343\n",
            "Epoch [3441/4000], Loss: 0.5299\n",
            "Epoch [3461/4000], Loss: 0.5255\n",
            "Epoch [3481/4000], Loss: 0.5213\n",
            "Epoch [3501/4000], Loss: 0.5171\n",
            "Epoch [3521/4000], Loss: 0.5131\n",
            "Epoch [3541/4000], Loss: 0.5091\n",
            "Epoch [3561/4000], Loss: 0.5052\n",
            "Epoch [3581/4000], Loss: 0.5015\n",
            "Epoch [3601/4000], Loss: 0.4977\n",
            "Epoch [3621/4000], Loss: 0.4941\n",
            "Epoch [3641/4000], Loss: 0.4906\n",
            "Epoch [3661/4000], Loss: 0.4871\n",
            "Epoch [3681/4000], Loss: 0.4837\n",
            "Epoch [3701/4000], Loss: 0.4803\n",
            "Epoch [3721/4000], Loss: 0.4771\n",
            "Epoch [3741/4000], Loss: 0.4739\n",
            "Epoch [3761/4000], Loss: 0.4708\n",
            "Epoch [3781/4000], Loss: 0.4677\n",
            "Epoch [3801/4000], Loss: 0.4647\n",
            "Epoch [3821/4000], Loss: 0.4618\n",
            "Epoch [3841/4000], Loss: 0.4589\n",
            "Epoch [3861/4000], Loss: 0.4561\n",
            "Epoch [3881/4000], Loss: 0.4533\n",
            "Epoch [3901/4000], Loss: 0.4507\n",
            "Epoch [3921/4000], Loss: 0.4480\n",
            "Epoch [3941/4000], Loss: 0.4454\n",
            "Epoch [3961/4000], Loss: 0.4429\n",
            "Epoch [3981/4000], Loss: 0.4404\n"
          ]
        }
      ]
    },
    {
      "cell_type": "code",
      "source": [
        "# Model Evaluation\n",
        "from sklearn.metrics import roc_auc_score, confusion_matrix\n",
        "\n",
        "X_test_tensor = tf.convert_to_tensor(X_test_dropped.values, dtype=tf.float32)\n",
        "y_test_tensor = tf.convert_to_tensor(y_test.values, dtype=tf.float32)\n",
        "\n",
        "y_pred_tensor = model_log_reg(X_test_tensor)\n",
        "y_pred = tf.math.sigmoid(y_pred_tensor)\n",
        "\n",
        "threshold = 0.5\n",
        "predicted = tf.squeeze(tf.cast(y_pred > threshold, tf.float32))\n",
        "\n",
        "y_test_tensor = tf.squeeze(y_test_tensor)\n",
        "\n",
        "correct = tf.equal(predicted, y_test_tensor)\n",
        "accuracy = tf.reduce_mean(tf.cast((correct), tf.float32)).numpy()\n",
        "print(f'accuracy: {accuracy}')\n",
        "\n",
        "# Calculate AUC\n",
        "probs_np = y_pred.numpy().squeeze()\n",
        "y_test_np = y_test_tensor.numpy()\n",
        "auc = roc_auc_score(y_test_np, probs_np)\n",
        "print(f'AUC: {auc}')\n",
        "\n",
        "# Confusion matrix\n",
        "confuse_matrix = confusion_matrix(y_test_np, predicted.numpy())\n",
        "print(f'Confusion Matrix : {confuse_matrix}')"
      ],
      "metadata": {
        "colab": {
          "base_uri": "https://localhost:8080/"
        },
        "id": "H2bbUvKlvC-o",
        "outputId": "bc994c82-1b29-4e09-aec9-b9169792bed6"
      },
      "execution_count": 32,
      "outputs": [
        {
          "output_type": "stream",
          "name": "stdout",
          "text": [
            "accuracy: 0.8304294347763062\n",
            "AUC: 0.8344612278062125\n",
            "Confusion Matrix : [[3218  619]\n",
            " [  72  166]]\n"
          ]
        }
      ]
    },
    {
      "cell_type": "markdown",
      "source": [
        "XGBoost"
      ],
      "metadata": {
        "id": "VNdYxz5n0ilW"
      }
    },
    {
      "cell_type": "code",
      "source": [
        "# XGBoost\n",
        "import xgboost as xgb\n",
        "\n",
        "dtrain = xgb.DMatrix(X_train_resampled, label=y_train_resampled)\n",
        "dtest = xgb.DMatrix(X_test_dropped, label=y_test)\n",
        "\n",
        "xgb_model = xgb.XGBClassifier(\n",
        "    objective='binary:logistic',\n",
        "    eval_metric='logloss',\n",
        "    scale_pos_weight= np.sum(y_train_resampled == 0)/np.sum(y_train_resampled == 1),\n",
        "    max_depth = 10,\n",
        "    learning_rate= 0.00001)\n",
        "\n",
        "xgb_model_depth20 = xgb.XGBClassifier(\n",
        "    objective='binary:logistic',\n",
        "    eval_metric='logloss',\n",
        "    scale_pos_weight= np.sum(y_train_resampled == 0)/np.sum(y_train_resampled == 1),\n",
        "    max_depth = 20,\n",
        "    learning_rate= 0.00001)\n",
        "\n",
        "xgb_model.fit(X_train_resampled, y_train_resampled)\n",
        "xgb_model_depth20.fit(X_train_resampled, y_train_resampled)"
      ],
      "metadata": {
        "colab": {
          "base_uri": "https://localhost:8080/",
          "height": 250
        },
        "id": "O1NHfpxH0mB5",
        "outputId": "094cdc8d-45c2-4225-9c27-3de018750ee2"
      },
      "execution_count": 31,
      "outputs": [
        {
          "output_type": "execute_result",
          "data": {
            "text/plain": [
              "XGBClassifier(base_score=None, booster=None, callbacks=None,\n",
              "              colsample_bylevel=None, colsample_bynode=None,\n",
              "              colsample_bytree=None, device=None, early_stopping_rounds=None,\n",
              "              enable_categorical=False, eval_metric='logloss',\n",
              "              feature_types=None, gamma=None, grow_policy=None,\n",
              "              importance_type=None, interaction_constraints=None,\n",
              "              learning_rate=1e-05, max_bin=None, max_cat_threshold=None,\n",
              "              max_cat_to_onehot=None, max_delta_step=None, max_depth=20,\n",
              "              max_leaves=None, min_child_weight=None, missing=nan,\n",
              "              monotone_constraints=None, multi_strategy=None, n_estimators=None,\n",
              "              n_jobs=None, num_parallel_tree=None, random_state=None, ...)"
            ],
            "text/html": [
              "<style>#sk-container-id-1 {\n",
              "  /* Definition of color scheme common for light and dark mode */\n",
              "  --sklearn-color-text: black;\n",
              "  --sklearn-color-line: gray;\n",
              "  /* Definition of color scheme for unfitted estimators */\n",
              "  --sklearn-color-unfitted-level-0: #fff5e6;\n",
              "  --sklearn-color-unfitted-level-1: #f6e4d2;\n",
              "  --sklearn-color-unfitted-level-2: #ffe0b3;\n",
              "  --sklearn-color-unfitted-level-3: chocolate;\n",
              "  /* Definition of color scheme for fitted estimators */\n",
              "  --sklearn-color-fitted-level-0: #f0f8ff;\n",
              "  --sklearn-color-fitted-level-1: #d4ebff;\n",
              "  --sklearn-color-fitted-level-2: #b3dbfd;\n",
              "  --sklearn-color-fitted-level-3: cornflowerblue;\n",
              "\n",
              "  /* Specific color for light theme */\n",
              "  --sklearn-color-text-on-default-background: var(--sg-text-color, var(--theme-code-foreground, var(--jp-content-font-color1, black)));\n",
              "  --sklearn-color-background: var(--sg-background-color, var(--theme-background, var(--jp-layout-color0, white)));\n",
              "  --sklearn-color-border-box: var(--sg-text-color, var(--theme-code-foreground, var(--jp-content-font-color1, black)));\n",
              "  --sklearn-color-icon: #696969;\n",
              "\n",
              "  @media (prefers-color-scheme: dark) {\n",
              "    /* Redefinition of color scheme for dark theme */\n",
              "    --sklearn-color-text-on-default-background: var(--sg-text-color, var(--theme-code-foreground, var(--jp-content-font-color1, white)));\n",
              "    --sklearn-color-background: var(--sg-background-color, var(--theme-background, var(--jp-layout-color0, #111)));\n",
              "    --sklearn-color-border-box: var(--sg-text-color, var(--theme-code-foreground, var(--jp-content-font-color1, white)));\n",
              "    --sklearn-color-icon: #878787;\n",
              "  }\n",
              "}\n",
              "\n",
              "#sk-container-id-1 {\n",
              "  color: var(--sklearn-color-text);\n",
              "}\n",
              "\n",
              "#sk-container-id-1 pre {\n",
              "  padding: 0;\n",
              "}\n",
              "\n",
              "#sk-container-id-1 input.sk-hidden--visually {\n",
              "  border: 0;\n",
              "  clip: rect(1px 1px 1px 1px);\n",
              "  clip: rect(1px, 1px, 1px, 1px);\n",
              "  height: 1px;\n",
              "  margin: -1px;\n",
              "  overflow: hidden;\n",
              "  padding: 0;\n",
              "  position: absolute;\n",
              "  width: 1px;\n",
              "}\n",
              "\n",
              "#sk-container-id-1 div.sk-dashed-wrapped {\n",
              "  border: 1px dashed var(--sklearn-color-line);\n",
              "  margin: 0 0.4em 0.5em 0.4em;\n",
              "  box-sizing: border-box;\n",
              "  padding-bottom: 0.4em;\n",
              "  background-color: var(--sklearn-color-background);\n",
              "}\n",
              "\n",
              "#sk-container-id-1 div.sk-container {\n",
              "  /* jupyter's `normalize.less` sets `[hidden] { display: none; }`\n",
              "     but bootstrap.min.css set `[hidden] { display: none !important; }`\n",
              "     so we also need the `!important` here to be able to override the\n",
              "     default hidden behavior on the sphinx rendered scikit-learn.org.\n",
              "     See: https://github.com/scikit-learn/scikit-learn/issues/21755 */\n",
              "  display: inline-block !important;\n",
              "  position: relative;\n",
              "}\n",
              "\n",
              "#sk-container-id-1 div.sk-text-repr-fallback {\n",
              "  display: none;\n",
              "}\n",
              "\n",
              "div.sk-parallel-item,\n",
              "div.sk-serial,\n",
              "div.sk-item {\n",
              "  /* draw centered vertical line to link estimators */\n",
              "  background-image: linear-gradient(var(--sklearn-color-text-on-default-background), var(--sklearn-color-text-on-default-background));\n",
              "  background-size: 2px 100%;\n",
              "  background-repeat: no-repeat;\n",
              "  background-position: center center;\n",
              "}\n",
              "\n",
              "/* Parallel-specific style estimator block */\n",
              "\n",
              "#sk-container-id-1 div.sk-parallel-item::after {\n",
              "  content: \"\";\n",
              "  width: 100%;\n",
              "  border-bottom: 2px solid var(--sklearn-color-text-on-default-background);\n",
              "  flex-grow: 1;\n",
              "}\n",
              "\n",
              "#sk-container-id-1 div.sk-parallel {\n",
              "  display: flex;\n",
              "  align-items: stretch;\n",
              "  justify-content: center;\n",
              "  background-color: var(--sklearn-color-background);\n",
              "  position: relative;\n",
              "}\n",
              "\n",
              "#sk-container-id-1 div.sk-parallel-item {\n",
              "  display: flex;\n",
              "  flex-direction: column;\n",
              "}\n",
              "\n",
              "#sk-container-id-1 div.sk-parallel-item:first-child::after {\n",
              "  align-self: flex-end;\n",
              "  width: 50%;\n",
              "}\n",
              "\n",
              "#sk-container-id-1 div.sk-parallel-item:last-child::after {\n",
              "  align-self: flex-start;\n",
              "  width: 50%;\n",
              "}\n",
              "\n",
              "#sk-container-id-1 div.sk-parallel-item:only-child::after {\n",
              "  width: 0;\n",
              "}\n",
              "\n",
              "/* Serial-specific style estimator block */\n",
              "\n",
              "#sk-container-id-1 div.sk-serial {\n",
              "  display: flex;\n",
              "  flex-direction: column;\n",
              "  align-items: center;\n",
              "  background-color: var(--sklearn-color-background);\n",
              "  padding-right: 1em;\n",
              "  padding-left: 1em;\n",
              "}\n",
              "\n",
              "\n",
              "/* Toggleable style: style used for estimator/Pipeline/ColumnTransformer box that is\n",
              "clickable and can be expanded/collapsed.\n",
              "- Pipeline and ColumnTransformer use this feature and define the default style\n",
              "- Estimators will overwrite some part of the style using the `sk-estimator` class\n",
              "*/\n",
              "\n",
              "/* Pipeline and ColumnTransformer style (default) */\n",
              "\n",
              "#sk-container-id-1 div.sk-toggleable {\n",
              "  /* Default theme specific background. It is overwritten whether we have a\n",
              "  specific estimator or a Pipeline/ColumnTransformer */\n",
              "  background-color: var(--sklearn-color-background);\n",
              "}\n",
              "\n",
              "/* Toggleable label */\n",
              "#sk-container-id-1 label.sk-toggleable__label {\n",
              "  cursor: pointer;\n",
              "  display: block;\n",
              "  width: 100%;\n",
              "  margin-bottom: 0;\n",
              "  padding: 0.5em;\n",
              "  box-sizing: border-box;\n",
              "  text-align: center;\n",
              "}\n",
              "\n",
              "#sk-container-id-1 label.sk-toggleable__label-arrow:before {\n",
              "  /* Arrow on the left of the label */\n",
              "  content: \"▸\";\n",
              "  float: left;\n",
              "  margin-right: 0.25em;\n",
              "  color: var(--sklearn-color-icon);\n",
              "}\n",
              "\n",
              "#sk-container-id-1 label.sk-toggleable__label-arrow:hover:before {\n",
              "  color: var(--sklearn-color-text);\n",
              "}\n",
              "\n",
              "/* Toggleable content - dropdown */\n",
              "\n",
              "#sk-container-id-1 div.sk-toggleable__content {\n",
              "  max-height: 0;\n",
              "  max-width: 0;\n",
              "  overflow: hidden;\n",
              "  text-align: left;\n",
              "  /* unfitted */\n",
              "  background-color: var(--sklearn-color-unfitted-level-0);\n",
              "}\n",
              "\n",
              "#sk-container-id-1 div.sk-toggleable__content.fitted {\n",
              "  /* fitted */\n",
              "  background-color: var(--sklearn-color-fitted-level-0);\n",
              "}\n",
              "\n",
              "#sk-container-id-1 div.sk-toggleable__content pre {\n",
              "  margin: 0.2em;\n",
              "  border-radius: 0.25em;\n",
              "  color: var(--sklearn-color-text);\n",
              "  /* unfitted */\n",
              "  background-color: var(--sklearn-color-unfitted-level-0);\n",
              "}\n",
              "\n",
              "#sk-container-id-1 div.sk-toggleable__content.fitted pre {\n",
              "  /* unfitted */\n",
              "  background-color: var(--sklearn-color-fitted-level-0);\n",
              "}\n",
              "\n",
              "#sk-container-id-1 input.sk-toggleable__control:checked~div.sk-toggleable__content {\n",
              "  /* Expand drop-down */\n",
              "  max-height: 200px;\n",
              "  max-width: 100%;\n",
              "  overflow: auto;\n",
              "}\n",
              "\n",
              "#sk-container-id-1 input.sk-toggleable__control:checked~label.sk-toggleable__label-arrow:before {\n",
              "  content: \"▾\";\n",
              "}\n",
              "\n",
              "/* Pipeline/ColumnTransformer-specific style */\n",
              "\n",
              "#sk-container-id-1 div.sk-label input.sk-toggleable__control:checked~label.sk-toggleable__label {\n",
              "  color: var(--sklearn-color-text);\n",
              "  background-color: var(--sklearn-color-unfitted-level-2);\n",
              "}\n",
              "\n",
              "#sk-container-id-1 div.sk-label.fitted input.sk-toggleable__control:checked~label.sk-toggleable__label {\n",
              "  background-color: var(--sklearn-color-fitted-level-2);\n",
              "}\n",
              "\n",
              "/* Estimator-specific style */\n",
              "\n",
              "/* Colorize estimator box */\n",
              "#sk-container-id-1 div.sk-estimator input.sk-toggleable__control:checked~label.sk-toggleable__label {\n",
              "  /* unfitted */\n",
              "  background-color: var(--sklearn-color-unfitted-level-2);\n",
              "}\n",
              "\n",
              "#sk-container-id-1 div.sk-estimator.fitted input.sk-toggleable__control:checked~label.sk-toggleable__label {\n",
              "  /* fitted */\n",
              "  background-color: var(--sklearn-color-fitted-level-2);\n",
              "}\n",
              "\n",
              "#sk-container-id-1 div.sk-label label.sk-toggleable__label,\n",
              "#sk-container-id-1 div.sk-label label {\n",
              "  /* The background is the default theme color */\n",
              "  color: var(--sklearn-color-text-on-default-background);\n",
              "}\n",
              "\n",
              "/* On hover, darken the color of the background */\n",
              "#sk-container-id-1 div.sk-label:hover label.sk-toggleable__label {\n",
              "  color: var(--sklearn-color-text);\n",
              "  background-color: var(--sklearn-color-unfitted-level-2);\n",
              "}\n",
              "\n",
              "/* Label box, darken color on hover, fitted */\n",
              "#sk-container-id-1 div.sk-label.fitted:hover label.sk-toggleable__label.fitted {\n",
              "  color: var(--sklearn-color-text);\n",
              "  background-color: var(--sklearn-color-fitted-level-2);\n",
              "}\n",
              "\n",
              "/* Estimator label */\n",
              "\n",
              "#sk-container-id-1 div.sk-label label {\n",
              "  font-family: monospace;\n",
              "  font-weight: bold;\n",
              "  display: inline-block;\n",
              "  line-height: 1.2em;\n",
              "}\n",
              "\n",
              "#sk-container-id-1 div.sk-label-container {\n",
              "  text-align: center;\n",
              "}\n",
              "\n",
              "/* Estimator-specific */\n",
              "#sk-container-id-1 div.sk-estimator {\n",
              "  font-family: monospace;\n",
              "  border: 1px dotted var(--sklearn-color-border-box);\n",
              "  border-radius: 0.25em;\n",
              "  box-sizing: border-box;\n",
              "  margin-bottom: 0.5em;\n",
              "  /* unfitted */\n",
              "  background-color: var(--sklearn-color-unfitted-level-0);\n",
              "}\n",
              "\n",
              "#sk-container-id-1 div.sk-estimator.fitted {\n",
              "  /* fitted */\n",
              "  background-color: var(--sklearn-color-fitted-level-0);\n",
              "}\n",
              "\n",
              "/* on hover */\n",
              "#sk-container-id-1 div.sk-estimator:hover {\n",
              "  /* unfitted */\n",
              "  background-color: var(--sklearn-color-unfitted-level-2);\n",
              "}\n",
              "\n",
              "#sk-container-id-1 div.sk-estimator.fitted:hover {\n",
              "  /* fitted */\n",
              "  background-color: var(--sklearn-color-fitted-level-2);\n",
              "}\n",
              "\n",
              "/* Specification for estimator info (e.g. \"i\" and \"?\") */\n",
              "\n",
              "/* Common style for \"i\" and \"?\" */\n",
              "\n",
              ".sk-estimator-doc-link,\n",
              "a:link.sk-estimator-doc-link,\n",
              "a:visited.sk-estimator-doc-link {\n",
              "  float: right;\n",
              "  font-size: smaller;\n",
              "  line-height: 1em;\n",
              "  font-family: monospace;\n",
              "  background-color: var(--sklearn-color-background);\n",
              "  border-radius: 1em;\n",
              "  height: 1em;\n",
              "  width: 1em;\n",
              "  text-decoration: none !important;\n",
              "  margin-left: 1ex;\n",
              "  /* unfitted */\n",
              "  border: var(--sklearn-color-unfitted-level-1) 1pt solid;\n",
              "  color: var(--sklearn-color-unfitted-level-1);\n",
              "}\n",
              "\n",
              ".sk-estimator-doc-link.fitted,\n",
              "a:link.sk-estimator-doc-link.fitted,\n",
              "a:visited.sk-estimator-doc-link.fitted {\n",
              "  /* fitted */\n",
              "  border: var(--sklearn-color-fitted-level-1) 1pt solid;\n",
              "  color: var(--sklearn-color-fitted-level-1);\n",
              "}\n",
              "\n",
              "/* On hover */\n",
              "div.sk-estimator:hover .sk-estimator-doc-link:hover,\n",
              ".sk-estimator-doc-link:hover,\n",
              "div.sk-label-container:hover .sk-estimator-doc-link:hover,\n",
              ".sk-estimator-doc-link:hover {\n",
              "  /* unfitted */\n",
              "  background-color: var(--sklearn-color-unfitted-level-3);\n",
              "  color: var(--sklearn-color-background);\n",
              "  text-decoration: none;\n",
              "}\n",
              "\n",
              "div.sk-estimator.fitted:hover .sk-estimator-doc-link.fitted:hover,\n",
              ".sk-estimator-doc-link.fitted:hover,\n",
              "div.sk-label-container:hover .sk-estimator-doc-link.fitted:hover,\n",
              ".sk-estimator-doc-link.fitted:hover {\n",
              "  /* fitted */\n",
              "  background-color: var(--sklearn-color-fitted-level-3);\n",
              "  color: var(--sklearn-color-background);\n",
              "  text-decoration: none;\n",
              "}\n",
              "\n",
              "/* Span, style for the box shown on hovering the info icon */\n",
              ".sk-estimator-doc-link span {\n",
              "  display: none;\n",
              "  z-index: 9999;\n",
              "  position: relative;\n",
              "  font-weight: normal;\n",
              "  right: .2ex;\n",
              "  padding: .5ex;\n",
              "  margin: .5ex;\n",
              "  width: min-content;\n",
              "  min-width: 20ex;\n",
              "  max-width: 50ex;\n",
              "  color: var(--sklearn-color-text);\n",
              "  box-shadow: 2pt 2pt 4pt #999;\n",
              "  /* unfitted */\n",
              "  background: var(--sklearn-color-unfitted-level-0);\n",
              "  border: .5pt solid var(--sklearn-color-unfitted-level-3);\n",
              "}\n",
              "\n",
              ".sk-estimator-doc-link.fitted span {\n",
              "  /* fitted */\n",
              "  background: var(--sklearn-color-fitted-level-0);\n",
              "  border: var(--sklearn-color-fitted-level-3);\n",
              "}\n",
              "\n",
              ".sk-estimator-doc-link:hover span {\n",
              "  display: block;\n",
              "}\n",
              "\n",
              "/* \"?\"-specific style due to the `<a>` HTML tag */\n",
              "\n",
              "#sk-container-id-1 a.estimator_doc_link {\n",
              "  float: right;\n",
              "  font-size: 1rem;\n",
              "  line-height: 1em;\n",
              "  font-family: monospace;\n",
              "  background-color: var(--sklearn-color-background);\n",
              "  border-radius: 1rem;\n",
              "  height: 1rem;\n",
              "  width: 1rem;\n",
              "  text-decoration: none;\n",
              "  /* unfitted */\n",
              "  color: var(--sklearn-color-unfitted-level-1);\n",
              "  border: var(--sklearn-color-unfitted-level-1) 1pt solid;\n",
              "}\n",
              "\n",
              "#sk-container-id-1 a.estimator_doc_link.fitted {\n",
              "  /* fitted */\n",
              "  border: var(--sklearn-color-fitted-level-1) 1pt solid;\n",
              "  color: var(--sklearn-color-fitted-level-1);\n",
              "}\n",
              "\n",
              "/* On hover */\n",
              "#sk-container-id-1 a.estimator_doc_link:hover {\n",
              "  /* unfitted */\n",
              "  background-color: var(--sklearn-color-unfitted-level-3);\n",
              "  color: var(--sklearn-color-background);\n",
              "  text-decoration: none;\n",
              "}\n",
              "\n",
              "#sk-container-id-1 a.estimator_doc_link.fitted:hover {\n",
              "  /* fitted */\n",
              "  background-color: var(--sklearn-color-fitted-level-3);\n",
              "}\n",
              "</style><div id=\"sk-container-id-1\" class=\"sk-top-container\"><div class=\"sk-text-repr-fallback\"><pre>XGBClassifier(base_score=None, booster=None, callbacks=None,\n",
              "              colsample_bylevel=None, colsample_bynode=None,\n",
              "              colsample_bytree=None, device=None, early_stopping_rounds=None,\n",
              "              enable_categorical=False, eval_metric=&#x27;logloss&#x27;,\n",
              "              feature_types=None, gamma=None, grow_policy=None,\n",
              "              importance_type=None, interaction_constraints=None,\n",
              "              learning_rate=1e-05, max_bin=None, max_cat_threshold=None,\n",
              "              max_cat_to_onehot=None, max_delta_step=None, max_depth=20,\n",
              "              max_leaves=None, min_child_weight=None, missing=nan,\n",
              "              monotone_constraints=None, multi_strategy=None, n_estimators=None,\n",
              "              n_jobs=None, num_parallel_tree=None, random_state=None, ...)</pre><b>In a Jupyter environment, please rerun this cell to show the HTML representation or trust the notebook. <br />On GitHub, the HTML representation is unable to render, please try loading this page with nbviewer.org.</b></div><div class=\"sk-container\" hidden><div class=\"sk-item\"><div class=\"sk-estimator fitted sk-toggleable\"><input class=\"sk-toggleable__control sk-hidden--visually\" id=\"sk-estimator-id-1\" type=\"checkbox\" checked><label for=\"sk-estimator-id-1\" class=\"sk-toggleable__label fitted sk-toggleable__label-arrow fitted\">&nbsp;XGBClassifier<span class=\"sk-estimator-doc-link fitted\">i<span>Fitted</span></span></label><div class=\"sk-toggleable__content fitted\"><pre>XGBClassifier(base_score=None, booster=None, callbacks=None,\n",
              "              colsample_bylevel=None, colsample_bynode=None,\n",
              "              colsample_bytree=None, device=None, early_stopping_rounds=None,\n",
              "              enable_categorical=False, eval_metric=&#x27;logloss&#x27;,\n",
              "              feature_types=None, gamma=None, grow_policy=None,\n",
              "              importance_type=None, interaction_constraints=None,\n",
              "              learning_rate=1e-05, max_bin=None, max_cat_threshold=None,\n",
              "              max_cat_to_onehot=None, max_delta_step=None, max_depth=20,\n",
              "              max_leaves=None, min_child_weight=None, missing=nan,\n",
              "              monotone_constraints=None, multi_strategy=None, n_estimators=None,\n",
              "              n_jobs=None, num_parallel_tree=None, random_state=None, ...)</pre></div> </div></div></div></div>"
            ]
          },
          "metadata": {},
          "execution_count": 31
        }
      ]
    },
    {
      "cell_type": "code",
      "source": [
        "# Hyperparameter search\n",
        "\n",
        "from sklearn.model_selection import GridSearchCV, RandomizedSearchCV\n",
        "\n",
        "params = {\n",
        "    'learning_rate': np.logspace(np.log10(0.00001), np.log10(0.1), num=5),\n",
        "    'max_depth': [10, 20]\n",
        "}\n",
        "\n",
        "param_search = RandomizedSearchCV(estimator=xgb_model, param_distributions = params, scoring='roc_auc', cv=5, n_iter = 30, n_jobs=-1)\n",
        "param_search.fit(X_train_resampled, y_train_resampled)\n",
        "\n",
        "best_params = param_search.best_params_\n",
        "best_model = param_search.best_estimator_"
      ],
      "metadata": {
        "id": "5ri0Mj971FAI"
      },
      "execution_count": null,
      "outputs": []
    },
    {
      "cell_type": "code",
      "source": [
        "# Model Evaluation\n",
        "\n",
        "y_pred_xgb = xgb_model.predict(X_test_dropped)\n",
        "y_pred_xgb_depth20 = xgb_model_depth20.predict(X_test_dropped)\n",
        "\n",
        "accuracy_xgb = accuracy_score(y_test, y_pred_xgb)\n",
        "accuracy_xgb_depth20 = accuracy_score(y_test, y_pred_xgb_depth20)\n",
        "\n",
        "roc_xgb = roc_auc_score(y_test, y_pred_xgb)\n",
        "roc_xgb_depth20 = roc_auc_score(y_test, y_pred_xgb_depth20)\n",
        "\n",
        "confuse_matrix = confusion_matrix(y_test, y_pred_xgb)\n",
        "confuse_matrix_depth20 = confusion_matrix(y_test, y_pred_xgb_depth20)\n",
        "\n",
        "# Confuse matrix: [[TN, FP] [FN, TP]]\n",
        "print(f\"accuracy xgb: {accuracy_xgb}\")\n",
        "print(f\"roc_xgb: {roc_xgb}\")\n",
        "print(f\"confuse_matrix: {confuse_matrix}\")\n",
        "print(f\"accuracy_xgb_depth20: {accuracy_xgb_depth20}\")\n",
        "print(f\"roc_xgb_depth20: {roc_xgb_depth20}\")\n",
        "print(f\"confuse_matrix_depth20: {confuse_matrix_depth20}\")"
      ],
      "metadata": {
        "colab": {
          "base_uri": "https://localhost:8080/"
        },
        "id": "qQWQWNJc0pkk",
        "outputId": "94a09c2f-47e6-47fb-b905-279a9eb646e3"
      },
      "execution_count": 34,
      "outputs": [
        {
          "output_type": "stream",
          "name": "stdout",
          "text": [
            "accuracy xgb: 0.9484662576687116\n",
            "roc_xgb: 0.8307566967365523\n",
            "confuse_matrix: [[3699  138]\n",
            " [  72  166]]\n",
            "accuracy_xgb_depth20: 0.9646625766871165\n",
            "roc_xgb_depth20: 0.8413276960510554\n",
            "confuse_matrix_depth20: [[3764   73]\n",
            " [  71  167]]\n"
          ]
        }
      ]
    },
    {
      "cell_type": "markdown",
      "source": [
        "Recurrent Neural Network"
      ],
      "metadata": {
        "id": "alE9J_5t1Dmg"
      }
    },
    {
      "cell_type": "code",
      "source": [
        "# Fitting and Training RNN Model with ReLU activation in Hidden Layers\n",
        "import tensorflow as tf\n",
        "\n",
        "model_relu = tf.keras.Sequential([tf.keras.layers.SimpleRNN(units=128, activation='relu', input_shape=(1, X_train_resampled.shape[1])),\n",
        "                             tf.keras.layers.Dense(1, activation='sigmoid')])\n",
        "\n",
        "model_relu.compile(optimizer='adam', loss='binary_crossentropy', metrics=['accuracy', 'AUC'])\n",
        "\n",
        "X_train_resampled_rnn = X_train_resampled.values.reshape((X_train_resampled.shape[0], 1, X_train_resampled.shape[1]))\n",
        "X_train_resampled_rnn = tf.convert_to_tensor(X_train_resampled_rnn, dtype=tf.float32)\n",
        "y_train_resampled_rnn = tf.convert_to_tensor(y_train_resampled.values, dtype=tf.float32)\n",
        "\n",
        "model_relu.fit(X_train_resampled_rnn, y_train_resampled_rnn, epochs=10, batch_size=32)"
      ],
      "metadata": {
        "colab": {
          "base_uri": "https://localhost:8080/"
        },
        "id": "gAsanfvn1J2W",
        "outputId": "760dd295-be6d-4c5e-9432-24adb946afde"
      },
      "execution_count": 37,
      "outputs": [
        {
          "output_type": "stream",
          "name": "stderr",
          "text": [
            "/usr/local/lib/python3.10/dist-packages/keras/src/layers/rnn/rnn.py:204: UserWarning: Do not pass an `input_shape`/`input_dim` argument to a layer. When using Sequential models, prefer using an `Input(shape)` object as the first layer in the model instead.\n",
            "  super().__init__(**kwargs)\n"
          ]
        },
        {
          "output_type": "stream",
          "name": "stdout",
          "text": [
            "Epoch 1/10\n",
            "\u001b[1m2228/2228\u001b[0m \u001b[32m━━━━━━━━━━━━━━━━━━━━\u001b[0m\u001b[37m\u001b[0m \u001b[1m8s\u001b[0m 2ms/step - AUC: 0.7966 - accuracy: 0.7436 - loss: 2.9023\n",
            "Epoch 2/10\n",
            "\u001b[1m2228/2228\u001b[0m \u001b[32m━━━━━━━━━━━━━━━━━━━━\u001b[0m\u001b[37m\u001b[0m \u001b[1m10s\u001b[0m 2ms/step - AUC: 0.8685 - accuracy: 0.8127 - loss: 1.2423\n",
            "Epoch 3/10\n",
            "\u001b[1m2228/2228\u001b[0m \u001b[32m━━━━━━━━━━━━━━━━━━━━\u001b[0m\u001b[37m\u001b[0m \u001b[1m7s\u001b[0m 3ms/step - AUC: 0.8846 - accuracy: 0.8267 - loss: 1.0175\n",
            "Epoch 4/10\n",
            "\u001b[1m2228/2228\u001b[0m \u001b[32m━━━━━━━━━━━━━━━━━━━━\u001b[0m\u001b[37m\u001b[0m \u001b[1m5s\u001b[0m 2ms/step - AUC: 0.8959 - accuracy: 0.8370 - loss: 0.9391\n",
            "Epoch 5/10\n",
            "\u001b[1m2228/2228\u001b[0m \u001b[32m━━━━━━━━━━━━━━━━━━━━\u001b[0m\u001b[37m\u001b[0m \u001b[1m12s\u001b[0m 3ms/step - AUC: 0.9035 - accuracy: 0.8427 - loss: 0.8433\n",
            "Epoch 6/10\n",
            "\u001b[1m2228/2228\u001b[0m \u001b[32m━━━━━━━━━━━━━━━━━━━━\u001b[0m\u001b[37m\u001b[0m \u001b[1m8s\u001b[0m 2ms/step - AUC: 0.9075 - accuracy: 0.8475 - loss: 0.7886\n",
            "Epoch 7/10\n",
            "\u001b[1m2228/2228\u001b[0m \u001b[32m━━━━━━━━━━━━━━━━━━━━\u001b[0m\u001b[37m\u001b[0m \u001b[1m7s\u001b[0m 3ms/step - AUC: 0.9221 - accuracy: 0.8591 - loss: 0.6316\n",
            "Epoch 8/10\n",
            "\u001b[1m2228/2228\u001b[0m \u001b[32m━━━━━━━━━━━━━━━━━━━━\u001b[0m\u001b[37m\u001b[0m \u001b[1m5s\u001b[0m 2ms/step - AUC: 0.9129 - accuracy: 0.8519 - loss: 0.7297\n",
            "Epoch 9/10\n",
            "\u001b[1m2228/2228\u001b[0m \u001b[32m━━━━━━━━━━━━━━━━━━━━\u001b[0m\u001b[37m\u001b[0m \u001b[1m5s\u001b[0m 2ms/step - AUC: 0.9238 - accuracy: 0.8592 - loss: 0.5957\n",
            "Epoch 10/10\n",
            "\u001b[1m2228/2228\u001b[0m \u001b[32m━━━━━━━━━━━━━━━━━━━━\u001b[0m\u001b[37m\u001b[0m \u001b[1m7s\u001b[0m 3ms/step - AUC: 0.9238 - accuracy: 0.8606 - loss: 0.6048\n"
          ]
        },
        {
          "output_type": "execute_result",
          "data": {
            "text/plain": [
              "<keras.src.callbacks.history.History at 0x7f8eb9b11de0>"
            ]
          },
          "metadata": {},
          "execution_count": 37
        }
      ]
    },
    {
      "cell_type": "code",
      "source": [
        "# Model Evaluation\n",
        "X_test_dropped_rnn = X_test_dropped.values.reshape((X_test_dropped.shape[0], 1, X_test_dropped.shape[1]))\n",
        "X_test_dropped_rnn = tf.convert_to_tensor(X_test_dropped_rnn, dtype=tf.float32)\n",
        "y_test_rnn = tf.convert_to_tensor(y_test.values, dtype=tf.float32)\n",
        "\n",
        "loss, accuracy, auc = model_relu.evaluate(X_test_dropped_rnn, y_test_rnn, batch_size=32)\n",
        "print(f'Test Loss: {loss}, Test Accuracy: {accuracy}, Test AUC: {auc}')"
      ],
      "metadata": {
        "colab": {
          "base_uri": "https://localhost:8080/"
        },
        "id": "LaAwU5Ox33Dt",
        "outputId": "4d9167a5-b93f-4c7b-8275-ee23bb79fe27"
      },
      "execution_count": 45,
      "outputs": [
        {
          "output_type": "stream",
          "name": "stdout",
          "text": [
            "\u001b[1m128/128\u001b[0m \u001b[32m━━━━━━━━━━━━━━━━━━━━\u001b[0m\u001b[37m\u001b[0m \u001b[1m0s\u001b[0m 1ms/step - AUC: 0.8792 - accuracy: 0.8471 - loss: 0.5523\n",
            "Test Loss: 0.5517176985740662, Test Accuracy: 0.8488343358039856, Test AUC: 0.8821203112602234\n"
          ]
        }
      ]
    },
    {
      "cell_type": "code",
      "source": [
        "# Fitting and Training RNN Model with Leaky ReLU activation in Hidden Layers\n",
        "import tensorflow as tf\n",
        "\n",
        "model_leaky = tf.keras.Sequential([tf.keras.layers.SimpleRNN(units=128, activation=None, input_shape=(1, X_train_resampled.shape[1])),\n",
        "                             tf.keras.layers.LeakyReLU(alpha=0.01),\n",
        "                             tf.keras.layers.Dense(1, activation='sigmoid')])\n",
        "\n",
        "model_leaky.compile(optimizer='adam', loss='binary_crossentropy', metrics=['accuracy', 'AUC'])\n",
        "\n",
        "X_train_resampled_rnn = X_train_resampled.values.reshape((X_train_resampled.shape[0], 1, X_train_resampled.shape[1]))\n",
        "X_train_resampled_rnn = tf.convert_to_tensor(X_train_resampled_rnn, dtype=tf.float32)\n",
        "y_train_resampled_rnn = tf.convert_to_tensor(y_train_resampled.values, dtype=tf.float32)\n",
        "\n",
        "model_leaky.fit(X_train_resampled_rnn, y_train_resampled_rnn, epochs=10, batch_size=32)"
      ],
      "metadata": {
        "colab": {
          "base_uri": "https://localhost:8080/"
        },
        "id": "VBO-A5Di16WT",
        "outputId": "f979a4e0-7a76-4a74-e534-3b69caa0c064"
      },
      "execution_count": 38,
      "outputs": [
        {
          "output_type": "stream",
          "name": "stderr",
          "text": [
            "/usr/local/lib/python3.10/dist-packages/keras/src/layers/activations/leaky_relu.py:41: UserWarning: Argument `alpha` is deprecated. Use `negative_slope` instead.\n",
            "  warnings.warn(\n"
          ]
        },
        {
          "output_type": "stream",
          "name": "stdout",
          "text": [
            "Epoch 1/10\n",
            "\u001b[1m2228/2228\u001b[0m \u001b[32m━━━━━━━━━━━━━━━━━━━━\u001b[0m\u001b[37m\u001b[0m \u001b[1m46s\u001b[0m 2ms/step - AUC: 0.7905 - accuracy: 0.7380 - loss: 4.9334\n",
            "Epoch 2/10\n",
            "\u001b[1m2228/2228\u001b[0m \u001b[32m━━━━━━━━━━━━━━━━━━━━\u001b[0m\u001b[37m\u001b[0m \u001b[1m7s\u001b[0m 3ms/step - AUC: 0.8766 - accuracy: 0.8124 - loss: 1.0064\n",
            "Epoch 3/10\n",
            "\u001b[1m2228/2228\u001b[0m \u001b[32m━━━━━━━━━━━━━━━━━━━━\u001b[0m\u001b[37m\u001b[0m \u001b[1m5s\u001b[0m 2ms/step - AUC: 0.8968 - accuracy: 0.8343 - loss: 0.8411\n",
            "Epoch 4/10\n",
            "\u001b[1m2228/2228\u001b[0m \u001b[32m━━━━━━━━━━━━━━━━━━━━\u001b[0m\u001b[37m\u001b[0m \u001b[1m6s\u001b[0m 3ms/step - AUC: 0.8967 - accuracy: 0.8338 - loss: 0.8714\n",
            "Epoch 5/10\n",
            "\u001b[1m2228/2228\u001b[0m \u001b[32m━━━━━━━━━━━━━━━━━━━━\u001b[0m\u001b[37m\u001b[0m \u001b[1m9s\u001b[0m 2ms/step - AUC: 0.9138 - accuracy: 0.8521 - loss: 0.7195\n",
            "Epoch 6/10\n",
            "\u001b[1m2228/2228\u001b[0m \u001b[32m━━━━━━━━━━━━━━━━━━━━\u001b[0m\u001b[37m\u001b[0m \u001b[1m7s\u001b[0m 3ms/step - AUC: 0.9083 - accuracy: 0.8471 - loss: 0.7673\n",
            "Epoch 7/10\n",
            "\u001b[1m2228/2228\u001b[0m \u001b[32m━━━━━━━━━━━━━━━━━━━━\u001b[0m\u001b[37m\u001b[0m \u001b[1m8s\u001b[0m 2ms/step - AUC: 0.9048 - accuracy: 0.8449 - loss: 0.8085\n",
            "Epoch 8/10\n",
            "\u001b[1m2228/2228\u001b[0m \u001b[32m━━━━━━━━━━━━━━━━━━━━\u001b[0m\u001b[37m\u001b[0m \u001b[1m8s\u001b[0m 3ms/step - AUC: 0.9166 - accuracy: 0.8520 - loss: 0.6701\n",
            "Epoch 9/10\n",
            "\u001b[1m2228/2228\u001b[0m \u001b[32m━━━━━━━━━━━━━━━━━━━━\u001b[0m\u001b[37m\u001b[0m \u001b[1m8s\u001b[0m 2ms/step - AUC: 0.9315 - accuracy: 0.8658 - loss: 0.5267\n",
            "Epoch 10/10\n",
            "\u001b[1m2228/2228\u001b[0m \u001b[32m━━━━━━━━━━━━━━━━━━━━\u001b[0m\u001b[37m\u001b[0m \u001b[1m10s\u001b[0m 2ms/step - AUC: 0.9270 - accuracy: 0.8659 - loss: 0.5695\n"
          ]
        },
        {
          "output_type": "execute_result",
          "data": {
            "text/plain": [
              "<keras.src.callbacks.history.History at 0x7f8eba89d900>"
            ]
          },
          "metadata": {},
          "execution_count": 38
        }
      ]
    },
    {
      "cell_type": "code",
      "source": [
        "# Model Evaluation\n",
        "X_test_dropped_rnn = X_test_dropped.values.reshape((X_test_dropped.shape[0], 1, X_test_dropped.shape[1]))\n",
        "X_test_dropped_rnn = tf.convert_to_tensor(X_test_dropped_rnn, dtype=tf.float32)\n",
        "y_test_rnn = tf.convert_to_tensor(y_test.values, dtype=tf.float32)\n",
        "\n",
        "loss, accuracy, auc = model_leaky.evaluate(X_test_dropped_rnn, y_test_rnn, batch_size=32)\n",
        "print(f'Test Loss: {loss}, Test Accuracy: {accuracy}, Test AUC: {auc}')"
      ],
      "metadata": {
        "colab": {
          "base_uri": "https://localhost:8080/"
        },
        "id": "gHVrs9D04Vh2",
        "outputId": "16627c87-a840-4ba8-e949-9578cfd3dc7c"
      },
      "execution_count": 48,
      "outputs": [
        {
          "output_type": "stream",
          "name": "stdout",
          "text": [
            "\u001b[1m128/128\u001b[0m \u001b[32m━━━━━━━━━━━━━━━━━━━━\u001b[0m\u001b[37m\u001b[0m \u001b[1m0s\u001b[0m 1ms/step - AUC: 0.8541 - accuracy: 0.7339 - loss: 1.1060\n",
            "Test Loss: 1.0798038244247437, Test Accuracy: 0.7344785332679749, Test AUC: 0.8690405488014221\n"
          ]
        }
      ]
    }
  ]
}